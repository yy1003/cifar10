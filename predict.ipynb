{
 "cells": [
  {
   "cell_type": "markdown",
   "metadata": {},
   "source": [
    "# READ_ME\n",
    "学習済みモデルを使用し，予測をします．  \n",
    "\"models\"ディレクトリをダウンロードしておく必要があります．   \n",
    "以下のセルでmodelsを置いたディレクトリをdata_dirに指定し，   \n",
    "`predict`を実行します．"
   ]
  },
  {
   "cell_type": "code",
   "execution_count": 1,
   "metadata": {},
   "outputs": [],
   "source": [
    "###modelが置かれているディレクトリを，\"/\"まで含めて指定する\n",
    "data_dir = \"/root/userspace/CIFAR10_final/models/\""
   ]
  },
  {
   "cell_type": "code",
   "execution_count": null,
   "metadata": {},
   "outputs": [],
   "source": [
    "!pip3 install keras\n",
    "import keras\n",
    "import numpy as np\n",
    "from keras.models import load_model\n",
    "from keras.preprocessing.image import ImageDataGenerator\n",
    "from keras.datasets import cifar10\n",
    "from keras.utils.np_utils import to_categorical\n",
    "from sklearn.metrics import accuracy_score"
   ]
  },
  {
   "cell_type": "code",
   "execution_count": 46,
   "metadata": {},
   "outputs": [],
   "source": [
    "(x_train_raw,t_train_raw), (x_test_raw,t_test_raw) = cifar10.load_data()"
   ]
  },
  {
   "cell_type": "code",
   "execution_count": 47,
   "metadata": {},
   "outputs": [],
   "source": [
    "x_train = x_train_raw /255\n",
    "x_test = x_test_raw /255\n",
    "t_train = to_categorical(t_train_raw)\n",
    "t_test = to_categorical(t_test_raw)"
   ]
  },
  {
   "cell_type": "code",
   "execution_count": 45,
   "metadata": {},
   "outputs": [],
   "source": [
    "batch_size = 500\n",
    "\n",
    "def tta(model,test_size,generator,epochs = 10):\n",
    "    #test_time_augmentation\n",
    "    #batch_sizeは，test_sizeの約数でないといけない．\n",
    "    pred = np.zeros(shape = (test_size,10), dtype = float)\n",
    "    step_per_epoch = test_size //batch_size\n",
    "    for epoch in range(epochs):\n",
    "        for step in range(step_per_epoch):\n",
    "            sta = batch_size * step\n",
    "            end = sta + batch_size\n",
    "            tmp_x = generator.__next__()\n",
    "            pred[sta:end] += model.predict(tmp_x)\n",
    "    return pred / epochs\n",
    "\n",
    "\n",
    "def tta_generator():\n",
    "    return ImageDataGenerator(rotation_range = 20 , horizontal_flip = True,height_shift_range = 0.2,\\\n",
    "                                 width_shift_range = 0.2,zoom_range = 0.2,channel_shift_range = 0.2\\\n",
    "                                  ).flow(x_test,batch_size = batch_size,shuffle = False)\n",
    "\n",
    "# 学習済みモデルを使用し，予測をする関数\n",
    "def predict(x,t= [],tta_epochs = 30):\n",
    "    #xは，予測したい画像データ\n",
    "    #tは，教師データ．指定された場合accuracyを標準出力する\n",
    "    #batch_sizeは，TTAで画像を生成する際のバッチサイズ．予測データの枚数の約数にしないとバグるかも\n",
    "    #tta_epochsは，一つの画像に対して何枚の画像をAugmentationにより生成するか\n",
    "    #返り値：　予測データ\n",
    "    pred = np.zeros( (len(x),10))\n",
    "    for i in range(10):\n",
    "        model = load_model(data_dir + \"/ensemble_\" + str(i) + \".hdf5\" )\n",
    "        tmp_pred = tta(model,x_test.shape[0],tta_generator() ,epochs = tta_epochs)\n",
    "        pred += tmp_pred\n",
    "        print(i+1,end =\"\")\n",
    "        print(\"回目終了\")\n",
    "        if( len(t) >0):\n",
    "            print(\"accuracy: \",end = \"\")\n",
    "            print(accuracy_score( np.argmax( t,axis = 1,),np.argmax(tmp_pred,axis =1)) )\n",
    "    if( len(t) > 0):\n",
    "        print(\"final acc: \",end = \"\")\n",
    "        print(accuracy_score( np.argmax( t,axis = 1,),np.argmax(pred,axis =1)) )\n",
    "    return pred"
   ]
  },
  {
   "cell_type": "code",
   "execution_count": null,
   "metadata": {},
   "outputs": [],
   "source": [
    "predict(x_test,t_test,tta_epochs = 10)"
   ]
  }
 ],
 "metadata": {
  "kernelspec": {
   "display_name": "Python 3",
   "language": "python",
   "name": "python3"
  },
  "language_info": {
   "codemirror_mode": {
    "name": "ipython",
    "version": 3
   },
   "file_extension": ".py",
   "mimetype": "text/x-python",
   "name": "python",
   "nbconvert_exporter": "python",
   "pygments_lexer": "ipython3",
   "version": "3.5.2"
  }
 },
 "nbformat": 4,
 "nbformat_minor": 2
}
